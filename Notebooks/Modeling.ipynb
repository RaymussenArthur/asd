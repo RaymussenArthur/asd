{
 "cells": [
  {
   "cell_type": "code",
   "execution_count": 35,
   "id": "27f9bc60",
   "metadata": {},
   "outputs": [],
   "source": [
    "import pandas as pd\n",
    "import numpy as np\n",
    "import matplotlib.pyplot as plt\n",
    "import seaborn as sns\n",
    "from sklearn.model_selection import train_test_split, StratifiedKFold, cross_val_score, GridSearchCV\n",
    "from sklearn.preprocessing import StandardScaler, OneHotEncoder\n",
    "from xgboost import XGBClassifier\n",
    "from sklearn.metrics import accuracy_score, confusion_matrix, classification_report, mean_squared_error, r2_score"
   ]
  },
  {
   "cell_type": "code",
   "execution_count": 3,
   "id": "301ec807",
   "metadata": {},
   "outputs": [
    {
     "name": "stdout",
     "output_type": "stream",
     "text": [
      "playground-series-s5e7.zip: Skipping, found more recently modified local copy (use --force to force download)\n"
     ]
    }
   ],
   "source": [
    "!kaggle competitions download -c playground-series-s5e7"
   ]
  },
  {
   "cell_type": "code",
   "execution_count": 4,
   "id": "519ea370",
   "metadata": {},
   "outputs": [
    {
     "data": {
      "application/vnd.microsoft.datawrangler.viewer.v0+json": {
       "columns": [
        {
         "name": "index",
         "rawType": "int64",
         "type": "integer"
        },
        {
         "name": "id",
         "rawType": "int64",
         "type": "integer"
        },
        {
         "name": "Time_spent_Alone",
         "rawType": "float64",
         "type": "float"
        },
        {
         "name": "Stage_fear",
         "rawType": "object",
         "type": "string"
        },
        {
         "name": "Social_event_attendance",
         "rawType": "float64",
         "type": "float"
        },
        {
         "name": "Going_outside",
         "rawType": "float64",
         "type": "float"
        },
        {
         "name": "Drained_after_socializing",
         "rawType": "object",
         "type": "unknown"
        },
        {
         "name": "Friends_circle_size",
         "rawType": "float64",
         "type": "float"
        },
        {
         "name": "Post_frequency",
         "rawType": "float64",
         "type": "float"
        },
        {
         "name": "Personality",
         "rawType": "object",
         "type": "string"
        }
       ],
       "ref": "06fdda36-d478-4188-8d52-19635150ac01",
       "rows": [
        [
         "0",
         "0",
         "0.0",
         "No",
         "6.0",
         "4.0",
         "No",
         "15.0",
         "5.0",
         "Extrovert"
        ],
        [
         "1",
         "1",
         "1.0",
         "No",
         "7.0",
         "3.0",
         "No",
         "10.0",
         "8.0",
         "Extrovert"
        ],
        [
         "2",
         "2",
         "6.0",
         "Yes",
         "1.0",
         "0.0",
         null,
         "3.0",
         "0.0",
         "Introvert"
        ],
        [
         "3",
         "3",
         "3.0",
         "No",
         "7.0",
         "3.0",
         "No",
         "11.0",
         "5.0",
         "Extrovert"
        ],
        [
         "4",
         "4",
         "1.0",
         "No",
         "4.0",
         "4.0",
         "No",
         "13.0",
         null,
         "Extrovert"
        ]
       ],
       "shape": {
        "columns": 9,
        "rows": 5
       }
      },
      "text/html": [
       "<div>\n",
       "<style scoped>\n",
       "    .dataframe tbody tr th:only-of-type {\n",
       "        vertical-align: middle;\n",
       "    }\n",
       "\n",
       "    .dataframe tbody tr th {\n",
       "        vertical-align: top;\n",
       "    }\n",
       "\n",
       "    .dataframe thead th {\n",
       "        text-align: right;\n",
       "    }\n",
       "</style>\n",
       "<table border=\"1\" class=\"dataframe\">\n",
       "  <thead>\n",
       "    <tr style=\"text-align: right;\">\n",
       "      <th></th>\n",
       "      <th>id</th>\n",
       "      <th>Time_spent_Alone</th>\n",
       "      <th>Stage_fear</th>\n",
       "      <th>Social_event_attendance</th>\n",
       "      <th>Going_outside</th>\n",
       "      <th>Drained_after_socializing</th>\n",
       "      <th>Friends_circle_size</th>\n",
       "      <th>Post_frequency</th>\n",
       "      <th>Personality</th>\n",
       "    </tr>\n",
       "  </thead>\n",
       "  <tbody>\n",
       "    <tr>\n",
       "      <th>0</th>\n",
       "      <td>0</td>\n",
       "      <td>0.0</td>\n",
       "      <td>No</td>\n",
       "      <td>6.0</td>\n",
       "      <td>4.0</td>\n",
       "      <td>No</td>\n",
       "      <td>15.0</td>\n",
       "      <td>5.0</td>\n",
       "      <td>Extrovert</td>\n",
       "    </tr>\n",
       "    <tr>\n",
       "      <th>1</th>\n",
       "      <td>1</td>\n",
       "      <td>1.0</td>\n",
       "      <td>No</td>\n",
       "      <td>7.0</td>\n",
       "      <td>3.0</td>\n",
       "      <td>No</td>\n",
       "      <td>10.0</td>\n",
       "      <td>8.0</td>\n",
       "      <td>Extrovert</td>\n",
       "    </tr>\n",
       "    <tr>\n",
       "      <th>2</th>\n",
       "      <td>2</td>\n",
       "      <td>6.0</td>\n",
       "      <td>Yes</td>\n",
       "      <td>1.0</td>\n",
       "      <td>0.0</td>\n",
       "      <td>NaN</td>\n",
       "      <td>3.0</td>\n",
       "      <td>0.0</td>\n",
       "      <td>Introvert</td>\n",
       "    </tr>\n",
       "    <tr>\n",
       "      <th>3</th>\n",
       "      <td>3</td>\n",
       "      <td>3.0</td>\n",
       "      <td>No</td>\n",
       "      <td>7.0</td>\n",
       "      <td>3.0</td>\n",
       "      <td>No</td>\n",
       "      <td>11.0</td>\n",
       "      <td>5.0</td>\n",
       "      <td>Extrovert</td>\n",
       "    </tr>\n",
       "    <tr>\n",
       "      <th>4</th>\n",
       "      <td>4</td>\n",
       "      <td>1.0</td>\n",
       "      <td>No</td>\n",
       "      <td>4.0</td>\n",
       "      <td>4.0</td>\n",
       "      <td>No</td>\n",
       "      <td>13.0</td>\n",
       "      <td>NaN</td>\n",
       "      <td>Extrovert</td>\n",
       "    </tr>\n",
       "  </tbody>\n",
       "</table>\n",
       "</div>"
      ],
      "text/plain": [
       "   id  Time_spent_Alone Stage_fear  Social_event_attendance  Going_outside  \\\n",
       "0   0               0.0         No                      6.0            4.0   \n",
       "1   1               1.0         No                      7.0            3.0   \n",
       "2   2               6.0        Yes                      1.0            0.0   \n",
       "3   3               3.0         No                      7.0            3.0   \n",
       "4   4               1.0         No                      4.0            4.0   \n",
       "\n",
       "  Drained_after_socializing  Friends_circle_size  Post_frequency Personality  \n",
       "0                        No                 15.0             5.0   Extrovert  \n",
       "1                        No                 10.0             8.0   Extrovert  \n",
       "2                       NaN                  3.0             0.0   Introvert  \n",
       "3                        No                 11.0             5.0   Extrovert  \n",
       "4                        No                 13.0             NaN   Extrovert  "
      ]
     },
     "execution_count": 4,
     "metadata": {},
     "output_type": "execute_result"
    }
   ],
   "source": [
    "df_train = pd.read_csv('../Data/train.csv')\n",
    "df_train.head()"
   ]
  },
  {
   "cell_type": "code",
   "execution_count": 49,
   "id": "a203b020",
   "metadata": {},
   "outputs": [],
   "source": [
    "df_misnoneTrain = df_train.fillna(\"no value\")\n",
    "df_misnoneTrain"
   ]
  },
  {
   "cell_type": "code",
   "execution_count": 5,
   "id": "9d346007",
   "metadata": {},
   "outputs": [
    {
     "data": {
      "application/vnd.microsoft.datawrangler.viewer.v0+json": {
       "columns": [
        {
         "name": "index",
         "rawType": "int64",
         "type": "integer"
        },
        {
         "name": "id",
         "rawType": "int64",
         "type": "integer"
        },
        {
         "name": "Time_spent_Alone",
         "rawType": "float64",
         "type": "float"
        },
        {
         "name": "Stage_fear",
         "rawType": "object",
         "type": "string"
        },
        {
         "name": "Social_event_attendance",
         "rawType": "float64",
         "type": "float"
        },
        {
         "name": "Going_outside",
         "rawType": "float64",
         "type": "float"
        },
        {
         "name": "Drained_after_socializing",
         "rawType": "object",
         "type": "string"
        },
        {
         "name": "Friends_circle_size",
         "rawType": "float64",
         "type": "float"
        },
        {
         "name": "Post_frequency",
         "rawType": "float64",
         "type": "float"
        },
        {
         "name": "Personality",
         "rawType": "object",
         "type": "string"
        }
       ],
       "ref": "f57cdccb-0c66-4287-9a40-cccffd72f2a6",
       "rows": [
        [
         "0",
         "0",
         "0.0",
         "No",
         "6.0",
         "4.0",
         "No",
         "15.0",
         "5.0",
         "Extrovert"
        ],
        [
         "1",
         "1",
         "1.0",
         "No",
         "7.0",
         "3.0",
         "No",
         "10.0",
         "8.0",
         "Extrovert"
        ],
        [
         "3",
         "3",
         "3.0",
         "No",
         "7.0",
         "3.0",
         "No",
         "11.0",
         "5.0",
         "Extrovert"
        ],
        [
         "7",
         "7",
         "2.0",
         "No",
         "8.0",
         "3.0",
         "No",
         "4.0",
         "5.0",
         "Extrovert"
        ],
        [
         "9",
         "9",
         "1.0",
         "No",
         "8.0",
         "6.0",
         "No",
         "14.0",
         "9.0",
         "Extrovert"
        ],
        [
         "10",
         "10",
         "3.0",
         "No",
         "7.0",
         "4.0",
         "No",
         "5.0",
         "10.0",
         "Extrovert"
        ],
        [
         "11",
         "11",
         "2.0",
         "No",
         "6.0",
         "3.0",
         "No",
         "4.0",
         "8.0",
         "Extrovert"
        ],
        [
         "12",
         "12",
         "3.0",
         "No",
         "5.0",
         "4.0",
         "No",
         "9.0",
         "6.0",
         "Extrovert"
        ],
        [
         "16",
         "16",
         "0.0",
         "No",
         "6.0",
         "4.0",
         "No",
         "8.0",
         "10.0",
         "Extrovert"
        ],
        [
         "18",
         "18",
         "1.0",
         "No",
         "4.0",
         "4.0",
         "No",
         "11.0",
         "9.0",
         "Extrovert"
        ],
        [
         "20",
         "20",
         "1.0",
         "No",
         "9.0",
         "3.0",
         "No",
         "10.0",
         "7.0",
         "Extrovert"
        ],
        [
         "21",
         "21",
         "6.0",
         "Yes",
         "3.0",
         "2.0",
         "Yes",
         "1.0",
         "3.0",
         "Introvert"
        ],
        [
         "23",
         "23",
         "3.0",
         "No",
         "9.0",
         "7.0",
         "No",
         "6.0",
         "3.0",
         "Extrovert"
        ],
        [
         "24",
         "24",
         "1.0",
         "No",
         "5.0",
         "3.0",
         "No",
         "12.0",
         "5.0",
         "Extrovert"
        ],
        [
         "25",
         "25",
         "9.0",
         "Yes",
         "1.0",
         "3.0",
         "Yes",
         "7.0",
         "5.0",
         "Introvert"
        ],
        [
         "30",
         "30",
         "3.0",
         "No",
         "9.0",
         "0.0",
         "No",
         "8.0",
         "5.0",
         "Extrovert"
        ],
        [
         "32",
         "32",
         "1.0",
         "No",
         "9.0",
         "5.0",
         "No",
         "4.0",
         "8.0",
         "Extrovert"
        ],
        [
         "33",
         "33",
         "2.0",
         "No",
         "7.0",
         "5.0",
         "No",
         "11.0",
         "9.0",
         "Extrovert"
        ],
        [
         "35",
         "35",
         "6.0",
         "Yes",
         "2.0",
         "3.0",
         "Yes",
         "1.0",
         "3.0",
         "Introvert"
        ],
        [
         "37",
         "37",
         "2.0",
         "No",
         "7.0",
         "4.0",
         "No",
         "5.0",
         "3.0",
         "Extrovert"
        ],
        [
         "38",
         "38",
         "2.0",
         "No",
         "8.0",
         "3.0",
         "No",
         "13.0",
         "6.0",
         "Extrovert"
        ],
        [
         "39",
         "39",
         "0.0",
         "No",
         "5.0",
         "4.0",
         "No",
         "11.0",
         "4.0",
         "Extrovert"
        ],
        [
         "40",
         "40",
         "0.0",
         "No",
         "8.0",
         "3.0",
         "No",
         "10.0",
         "4.0",
         "Extrovert"
        ],
        [
         "42",
         "42",
         "2.0",
         "No",
         "6.0",
         "6.0",
         "No",
         "5.0",
         "6.0",
         "Extrovert"
        ],
        [
         "44",
         "44",
         "9.0",
         "Yes",
         "1.0",
         "0.0",
         "Yes",
         "3.0",
         "0.0",
         "Introvert"
        ],
        [
         "46",
         "46",
         "2.0",
         "No",
         "7.0",
         "3.0",
         "No",
         "12.0",
         "6.0",
         "Extrovert"
        ],
        [
         "47",
         "47",
         "0.0",
         "No",
         "4.0",
         "7.0",
         "No",
         "14.0",
         "3.0",
         "Extrovert"
        ],
        [
         "49",
         "49",
         "2.0",
         "No",
         "9.0",
         "7.0",
         "No",
         "6.0",
         "4.0",
         "Extrovert"
        ],
        [
         "51",
         "51",
         "0.0",
         "No",
         "3.0",
         "6.0",
         "No",
         "5.0",
         "8.0",
         "Extrovert"
        ],
        [
         "52",
         "52",
         "0.0",
         "No",
         "7.0",
         "6.0",
         "No",
         "7.0",
         "3.0",
         "Extrovert"
        ],
        [
         "53",
         "53",
         "6.0",
         "Yes",
         "3.0",
         "3.0",
         "Yes",
         "5.0",
         "0.0",
         "Introvert"
        ],
        [
         "56",
         "56",
         "3.0",
         "No",
         "9.0",
         "7.0",
         "No",
         "12.0",
         "3.0",
         "Extrovert"
        ],
        [
         "57",
         "57",
         "4.0",
         "No",
         "6.0",
         "3.0",
         "No",
         "8.0",
         "7.0",
         "Extrovert"
        ],
        [
         "60",
         "60",
         "9.0",
         "Yes",
         "4.0",
         "0.0",
         "Yes",
         "2.0",
         "0.0",
         "Introvert"
        ],
        [
         "61",
         "61",
         "0.0",
         "No",
         "9.0",
         "3.0",
         "No",
         "4.0",
         "5.0",
         "Extrovert"
        ],
        [
         "66",
         "66",
         "5.0",
         "No",
         "8.0",
         "4.0",
         "No",
         "8.0",
         "10.0",
         "Extrovert"
        ],
        [
         "70",
         "70",
         "3.0",
         "No",
         "4.0",
         "3.0",
         "No",
         "6.0",
         "10.0",
         "Extrovert"
        ],
        [
         "72",
         "72",
         "2.0",
         "No",
         "8.0",
         "6.0",
         "No",
         "10.0",
         "8.0",
         "Extrovert"
        ],
        [
         "73",
         "73",
         "1.0",
         "No",
         "7.0",
         "5.0",
         "No",
         "12.0",
         "4.0",
         "Extrovert"
        ],
        [
         "74",
         "74",
         "2.0",
         "No",
         "6.0",
         "6.0",
         "No",
         "5.0",
         "3.0",
         "Extrovert"
        ],
        [
         "75",
         "75",
         "2.0",
         "No",
         "7.0",
         "5.0",
         "No",
         "10.0",
         "8.0",
         "Extrovert"
        ],
        [
         "76",
         "76",
         "10.0",
         "Yes",
         "0.0",
         "2.0",
         "Yes",
         "1.0",
         "1.0",
         "Introvert"
        ],
        [
         "78",
         "78",
         "0.0",
         "No",
         "5.0",
         "4.0",
         "No",
         "6.0",
         "7.0",
         "Extrovert"
        ],
        [
         "79",
         "79",
         "1.0",
         "No",
         "4.0",
         "4.0",
         "No",
         "12.0",
         "8.0",
         "Extrovert"
        ],
        [
         "81",
         "81",
         "4.0",
         "No",
         "8.0",
         "5.0",
         "No",
         "8.0",
         "6.0",
         "Extrovert"
        ],
        [
         "82",
         "82",
         "0.0",
         "No",
         "6.0",
         "7.0",
         "No",
         "14.0",
         "3.0",
         "Extrovert"
        ],
        [
         "84",
         "84",
         "3.0",
         "No",
         "7.0",
         "6.0",
         "No",
         "4.0",
         "6.0",
         "Extrovert"
        ],
        [
         "85",
         "85",
         "0.0",
         "No",
         "6.0",
         "4.0",
         "No",
         "6.0",
         "6.0",
         "Extrovert"
        ],
        [
         "86",
         "86",
         "1.0",
         "No",
         "8.0",
         "3.0",
         "No",
         "10.0",
         "6.0",
         "Extrovert"
        ],
        [
         "91",
         "91",
         "3.0",
         "No",
         "3.0",
         "7.0",
         "No",
         "4.0",
         "9.0",
         "Extrovert"
        ]
       ],
       "shape": {
        "columns": 9,
        "rows": 10189
       }
      },
      "text/html": [
       "<div>\n",
       "<style scoped>\n",
       "    .dataframe tbody tr th:only-of-type {\n",
       "        vertical-align: middle;\n",
       "    }\n",
       "\n",
       "    .dataframe tbody tr th {\n",
       "        vertical-align: top;\n",
       "    }\n",
       "\n",
       "    .dataframe thead th {\n",
       "        text-align: right;\n",
       "    }\n",
       "</style>\n",
       "<table border=\"1\" class=\"dataframe\">\n",
       "  <thead>\n",
       "    <tr style=\"text-align: right;\">\n",
       "      <th></th>\n",
       "      <th>id</th>\n",
       "      <th>Time_spent_Alone</th>\n",
       "      <th>Stage_fear</th>\n",
       "      <th>Social_event_attendance</th>\n",
       "      <th>Going_outside</th>\n",
       "      <th>Drained_after_socializing</th>\n",
       "      <th>Friends_circle_size</th>\n",
       "      <th>Post_frequency</th>\n",
       "      <th>Personality</th>\n",
       "    </tr>\n",
       "  </thead>\n",
       "  <tbody>\n",
       "    <tr>\n",
       "      <th>0</th>\n",
       "      <td>0</td>\n",
       "      <td>0.0</td>\n",
       "      <td>No</td>\n",
       "      <td>6.0</td>\n",
       "      <td>4.0</td>\n",
       "      <td>No</td>\n",
       "      <td>15.0</td>\n",
       "      <td>5.0</td>\n",
       "      <td>Extrovert</td>\n",
       "    </tr>\n",
       "    <tr>\n",
       "      <th>1</th>\n",
       "      <td>1</td>\n",
       "      <td>1.0</td>\n",
       "      <td>No</td>\n",
       "      <td>7.0</td>\n",
       "      <td>3.0</td>\n",
       "      <td>No</td>\n",
       "      <td>10.0</td>\n",
       "      <td>8.0</td>\n",
       "      <td>Extrovert</td>\n",
       "    </tr>\n",
       "    <tr>\n",
       "      <th>3</th>\n",
       "      <td>3</td>\n",
       "      <td>3.0</td>\n",
       "      <td>No</td>\n",
       "      <td>7.0</td>\n",
       "      <td>3.0</td>\n",
       "      <td>No</td>\n",
       "      <td>11.0</td>\n",
       "      <td>5.0</td>\n",
       "      <td>Extrovert</td>\n",
       "    </tr>\n",
       "    <tr>\n",
       "      <th>7</th>\n",
       "      <td>7</td>\n",
       "      <td>2.0</td>\n",
       "      <td>No</td>\n",
       "      <td>8.0</td>\n",
       "      <td>3.0</td>\n",
       "      <td>No</td>\n",
       "      <td>4.0</td>\n",
       "      <td>5.0</td>\n",
       "      <td>Extrovert</td>\n",
       "    </tr>\n",
       "    <tr>\n",
       "      <th>9</th>\n",
       "      <td>9</td>\n",
       "      <td>1.0</td>\n",
       "      <td>No</td>\n",
       "      <td>8.0</td>\n",
       "      <td>6.0</td>\n",
       "      <td>No</td>\n",
       "      <td>14.0</td>\n",
       "      <td>9.0</td>\n",
       "      <td>Extrovert</td>\n",
       "    </tr>\n",
       "    <tr>\n",
       "      <th>...</th>\n",
       "      <td>...</td>\n",
       "      <td>...</td>\n",
       "      <td>...</td>\n",
       "      <td>...</td>\n",
       "      <td>...</td>\n",
       "      <td>...</td>\n",
       "      <td>...</td>\n",
       "      <td>...</td>\n",
       "      <td>...</td>\n",
       "    </tr>\n",
       "    <tr>\n",
       "      <th>18509</th>\n",
       "      <td>18509</td>\n",
       "      <td>1.0</td>\n",
       "      <td>No</td>\n",
       "      <td>3.0</td>\n",
       "      <td>4.0</td>\n",
       "      <td>No</td>\n",
       "      <td>15.0</td>\n",
       "      <td>4.0</td>\n",
       "      <td>Extrovert</td>\n",
       "    </tr>\n",
       "    <tr>\n",
       "      <th>18511</th>\n",
       "      <td>18511</td>\n",
       "      <td>0.0</td>\n",
       "      <td>No</td>\n",
       "      <td>4.0</td>\n",
       "      <td>5.0</td>\n",
       "      <td>No</td>\n",
       "      <td>11.0</td>\n",
       "      <td>4.0</td>\n",
       "      <td>Extrovert</td>\n",
       "    </tr>\n",
       "    <tr>\n",
       "      <th>18514</th>\n",
       "      <td>18514</td>\n",
       "      <td>6.0</td>\n",
       "      <td>No</td>\n",
       "      <td>5.0</td>\n",
       "      <td>3.0</td>\n",
       "      <td>No</td>\n",
       "      <td>10.0</td>\n",
       "      <td>4.0</td>\n",
       "      <td>Extrovert</td>\n",
       "    </tr>\n",
       "    <tr>\n",
       "      <th>18519</th>\n",
       "      <td>18519</td>\n",
       "      <td>3.0</td>\n",
       "      <td>No</td>\n",
       "      <td>7.0</td>\n",
       "      <td>3.0</td>\n",
       "      <td>No</td>\n",
       "      <td>9.0</td>\n",
       "      <td>7.0</td>\n",
       "      <td>Extrovert</td>\n",
       "    </tr>\n",
       "    <tr>\n",
       "      <th>18523</th>\n",
       "      <td>18523</td>\n",
       "      <td>1.0</td>\n",
       "      <td>No</td>\n",
       "      <td>8.0</td>\n",
       "      <td>6.0</td>\n",
       "      <td>No</td>\n",
       "      <td>4.0</td>\n",
       "      <td>7.0</td>\n",
       "      <td>Extrovert</td>\n",
       "    </tr>\n",
       "  </tbody>\n",
       "</table>\n",
       "<p>10189 rows × 9 columns</p>\n",
       "</div>"
      ],
      "text/plain": [
       "          id  Time_spent_Alone Stage_fear  Social_event_attendance  \\\n",
       "0          0               0.0         No                      6.0   \n",
       "1          1               1.0         No                      7.0   \n",
       "3          3               3.0         No                      7.0   \n",
       "7          7               2.0         No                      8.0   \n",
       "9          9               1.0         No                      8.0   \n",
       "...      ...               ...        ...                      ...   \n",
       "18509  18509               1.0         No                      3.0   \n",
       "18511  18511               0.0         No                      4.0   \n",
       "18514  18514               6.0         No                      5.0   \n",
       "18519  18519               3.0         No                      7.0   \n",
       "18523  18523               1.0         No                      8.0   \n",
       "\n",
       "       Going_outside Drained_after_socializing  Friends_circle_size  \\\n",
       "0                4.0                        No                 15.0   \n",
       "1                3.0                        No                 10.0   \n",
       "3                3.0                        No                 11.0   \n",
       "7                3.0                        No                  4.0   \n",
       "9                6.0                        No                 14.0   \n",
       "...              ...                       ...                  ...   \n",
       "18509            4.0                        No                 15.0   \n",
       "18511            5.0                        No                 11.0   \n",
       "18514            3.0                        No                 10.0   \n",
       "18519            3.0                        No                  9.0   \n",
       "18523            6.0                        No                  4.0   \n",
       "\n",
       "       Post_frequency Personality  \n",
       "0                 5.0   Extrovert  \n",
       "1                 8.0   Extrovert  \n",
       "3                 5.0   Extrovert  \n",
       "7                 5.0   Extrovert  \n",
       "9                 9.0   Extrovert  \n",
       "...               ...         ...  \n",
       "18509             4.0   Extrovert  \n",
       "18511             4.0   Extrovert  \n",
       "18514             4.0   Extrovert  \n",
       "18519             7.0   Extrovert  \n",
       "18523             7.0   Extrovert  \n",
       "\n",
       "[10189 rows x 9 columns]"
      ]
     },
     "execution_count": 5,
     "metadata": {},
     "output_type": "execute_result"
    }
   ],
   "source": [
    "df_cleanedTrain = df_train.dropna(axis=0)\n",
    "df_cleanedTrain"
   ]
  },
  {
   "cell_type": "code",
   "execution_count": 16,
   "id": "5e3fab80",
   "metadata": {},
   "outputs": [],
   "source": [
    "X_encoded = pd.get_dummies(df_cleanedTrain.drop('Personality', axis=1), drop_first=True)\n",
    "\n",
    "y = df_cleanedTrain['Personality']\n",
    "\n",
    "scaler = StandardScaler()\n",
    "X_scaled = scaler.fit_transform(X_encoded)"
   ]
  },
  {
   "cell_type": "code",
   "execution_count": 17,
   "id": "c58f9454",
   "metadata": {},
   "outputs": [],
   "source": [
    "X_train, X_test, y_train, y_test = train_test_split(X_scaled, y, test_size=0.2, random_state=42, stratify=y)"
   ]
  },
  {
   "cell_type": "code",
   "execution_count": 19,
   "id": "232ddf5f",
   "metadata": {},
   "outputs": [
    {
     "name": "stdout",
     "output_type": "stream",
     "text": [
      "Accuracy: 0.9661432777232581\n"
     ]
    }
   ],
   "source": [
    "model = XGBClassifier(use_label_encoder=False, eval_metric='logloss', random_state=42)\n",
    "model.fit(X_train, y_train)\n",
    "\n",
    "y_pred = model.predict(X_test)\n",
    "print(\"Accuracy:\", accuracy_score(y_test, y_pred))"
   ]
  },
  {
   "cell_type": "code",
   "execution_count": 28,
   "id": "34f2393d",
   "metadata": {},
   "outputs": [
    {
     "name": "stdout",
     "output_type": "stream",
     "text": [
      "Collecting optuna\n",
      "  Downloading optuna-4.4.0-py3-none-any.whl.metadata (17 kB)\n",
      "Requirement already satisfied: alembic>=1.5.0 in c:\\users\\lenovo\\anaconda3\\lib\\site-packages (from optuna) (1.13.3)\n",
      "Collecting colorlog (from optuna)\n",
      "  Downloading colorlog-6.9.0-py3-none-any.whl.metadata (10 kB)\n",
      "Requirement already satisfied: numpy in c:\\users\\lenovo\\anaconda3\\lib\\site-packages (from optuna) (1.26.4)\n",
      "Requirement already satisfied: packaging>=20.0 in c:\\users\\lenovo\\anaconda3\\lib\\site-packages (from optuna) (24.1)\n",
      "Requirement already satisfied: sqlalchemy>=1.4.2 in c:\\users\\lenovo\\anaconda3\\lib\\site-packages (from optuna) (2.0.34)\n",
      "Requirement already satisfied: tqdm in c:\\users\\lenovo\\anaconda3\\lib\\site-packages (from optuna) (4.66.5)\n",
      "Requirement already satisfied: PyYAML in c:\\users\\lenovo\\anaconda3\\lib\\site-packages (from optuna) (6.0.1)\n",
      "Requirement already satisfied: Mako in c:\\users\\lenovo\\anaconda3\\lib\\site-packages (from alembic>=1.5.0->optuna) (1.2.3)\n",
      "Requirement already satisfied: typing-extensions>=4 in c:\\users\\lenovo\\anaconda3\\lib\\site-packages (from alembic>=1.5.0->optuna) (4.11.0)\n",
      "Requirement already satisfied: greenlet!=0.4.17 in c:\\users\\lenovo\\anaconda3\\lib\\site-packages (from sqlalchemy>=1.4.2->optuna) (3.0.1)\n",
      "Requirement already satisfied: colorama in c:\\users\\lenovo\\anaconda3\\lib\\site-packages (from colorlog->optuna) (0.4.6)\n",
      "Requirement already satisfied: MarkupSafe>=0.9.2 in c:\\users\\lenovo\\anaconda3\\lib\\site-packages (from Mako->alembic>=1.5.0->optuna) (2.1.3)\n",
      "Downloading optuna-4.4.0-py3-none-any.whl (395 kB)\n",
      "Downloading colorlog-6.9.0-py3-none-any.whl (11 kB)\n",
      "Installing collected packages: colorlog, optuna\n",
      "Successfully installed colorlog-6.9.0 optuna-4.4.0\n"
     ]
    }
   ],
   "source": [
    "!pip install optuna\n",
    "import optuna"
   ]
  },
  {
   "cell_type": "code",
   "execution_count": 29,
   "id": "5acb4a97",
   "metadata": {},
   "outputs": [
    {
     "name": "stderr",
     "output_type": "stream",
     "text": [
      "[I 2025-07-04 13:18:36,735] A new study created in memory with name: no-name-21bd89d5-069c-4e9d-9db0-1401f83030f5\n",
      "[I 2025-07-04 13:18:39,713] Trial 0 finished with value: 0.9623364791821045 and parameters: {'n_estimators': 736, 'max_depth': 7, 'learning_rate': 0.27516260801045667, 'subsample': 0.7462933155271944, 'colsample_bytree': 0.9551244698695116, 'gamma': 0.8463799103057074, 'reg_alpha': 2.9267925221330997, 'reg_lambda': 0.23127097039662203}. Best is trial 0 with value: 0.9623364791821045.\n",
      "[I 2025-07-04 13:18:42,045] Trial 1 finished with value: 0.9636862476631822 and parameters: {'n_estimators': 572, 'max_depth': 8, 'learning_rate': 0.10428623824891824, 'subsample': 0.8767291285288485, 'colsample_bytree': 0.8831925326750574, 'gamma': 1.1910860676813262, 'reg_alpha': 2.9502023921064278, 'reg_lambda': 2.171888456435834}. Best is trial 1 with value: 0.9636862476631822.\n",
      "[I 2025-07-04 13:18:44,659] Trial 2 finished with value: 0.9633180742741289 and parameters: {'n_estimators': 778, 'max_depth': 10, 'learning_rate': 0.12464837327198378, 'subsample': 0.9660391551354667, 'colsample_bytree': 0.7492779560828317, 'gamma': 3.7628280269992835, 'reg_alpha': 0.2518179688879302, 'reg_lambda': 0.38379784125061644}. Best is trial 1 with value: 0.9636862476631822.\n",
      "[I 2025-07-04 13:18:45,922] Trial 3 finished with value: 0.9636861724336381 and parameters: {'n_estimators': 388, 'max_depth': 8, 'learning_rate': 0.1724651757565371, 'subsample': 0.985401943390092, 'colsample_bytree': 0.6656511362981259, 'gamma': 2.4128425809691882, 'reg_alpha': 1.864702828810457, 'reg_lambda': 0.06662237077439292}. Best is trial 1 with value: 0.9636862476631822.\n",
      "[I 2025-07-04 13:18:48,256] Trial 4 finished with value: 0.9634408488901762 and parameters: {'n_estimators': 669, 'max_depth': 7, 'learning_rate': 0.27185971829424216, 'subsample': 0.717116358659385, 'colsample_bytree': 0.832493911378674, 'gamma': 4.282111262684244, 'reg_alpha': 0.7609017692801365, 'reg_lambda': 1.5772727640601696}. Best is trial 1 with value: 0.9636862476631822.\n",
      "[I 2025-07-04 13:18:50,264] Trial 5 finished with value: 0.9636862476631822 and parameters: {'n_estimators': 609, 'max_depth': 10, 'learning_rate': 0.10919926187108121, 'subsample': 0.8334152219933345, 'colsample_bytree': 0.7146845537372135, 'gamma': 4.961498130631689, 'reg_alpha': 2.3833517948165883, 'reg_lambda': 1.0386313293279006}. Best is trial 1 with value: 0.9636862476631822.\n",
      "[I 2025-07-04 13:18:54,062] Trial 6 finished with value: 0.9571837820148728 and parameters: {'n_estimators': 637, 'max_depth': 6, 'learning_rate': 0.2856977962378397, 'subsample': 0.7401229278179997, 'colsample_bytree': 0.6005282133732645, 'gamma': 0.11758771515881228, 'reg_alpha': 1.5020874339099166, 'reg_lambda': 1.5386646025968593}. Best is trial 1 with value: 0.9636862476631822.\n",
      "[I 2025-07-04 13:18:54,880] Trial 7 finished with value: 0.9638089470496853 and parameters: {'n_estimators': 248, 'max_depth': 7, 'learning_rate': 0.268226335473177, 'subsample': 0.9535959988710905, 'colsample_bytree': 0.841119032446214, 'gamma': 4.065051470223936, 'reg_alpha': 0.29962583333298143, 'reg_lambda': 2.123221886774176}. Best is trial 7 with value: 0.9638089470496853.\n",
      "[I 2025-07-04 13:18:56,114] Trial 8 finished with value: 0.9639314959771002 and parameters: {'n_estimators': 330, 'max_depth': 4, 'learning_rate': 0.15536879153430785, 'subsample': 0.6324298405952877, 'colsample_bytree': 0.7403272126294379, 'gamma': 3.1572864049909932, 'reg_alpha': 0.9808359678823084, 'reg_lambda': 2.7009691871415447}. Best is trial 8 with value: 0.9639314959771002.\n",
      "[I 2025-07-04 13:18:56,912] Trial 9 finished with value: 0.9636862476631822 and parameters: {'n_estimators': 244, 'max_depth': 6, 'learning_rate': 0.2542770289905118, 'subsample': 0.9842318661888891, 'colsample_bytree': 0.7467460679088473, 'gamma': 3.193600224375061, 'reg_alpha': 1.707226680289411, 'reg_lambda': 1.8549530885325975}. Best is trial 8 with value: 0.9639314959771002.\n",
      "[I 2025-07-04 13:18:57,881] Trial 10 finished with value: 0.9635636235062235 and parameters: {'n_estimators': 132, 'max_depth': 3, 'learning_rate': 0.022387788529160152, 'subsample': 0.6155383770841746, 'colsample_bytree': 0.9985310965390882, 'gamma': 2.319872924496777, 'reg_alpha': 0.9059702008020499, 'reg_lambda': 2.9016053757813767}. Best is trial 8 with value: 0.9639314959771002.\n",
      "[I 2025-07-04 13:18:59,408] Trial 11 finished with value: 0.9635634730471351 and parameters: {'n_estimators': 379, 'max_depth': 4, 'learning_rate': 0.20359962192902806, 'subsample': 0.6035743596677278, 'colsample_bytree': 0.8356676145212792, 'gamma': 3.2083641915900962, 'reg_alpha': 0.022701886713338504, 'reg_lambda': 2.72800540607285}. Best is trial 8 with value: 0.9639314959771002.\n",
      "[I 2025-07-04 13:19:02,182] Trial 12 finished with value: 0.9635635482766792 and parameters: {'n_estimators': 957, 'max_depth': 5, 'learning_rate': 0.22000628808988534, 'subsample': 0.9206624667277752, 'colsample_bytree': 0.8940412587740922, 'gamma': 4.272649910384009, 'reg_alpha': 0.8119791435889385, 'reg_lambda': 2.378666530388278}. Best is trial 8 with value: 0.9639314959771002.\n",
      "[I 2025-07-04 13:19:03,894] Trial 13 finished with value: 0.9636862476631822 and parameters: {'n_estimators': 374, 'max_depth': 3, 'learning_rate': 0.037855737119296046, 'subsample': 0.6753227784306165, 'colsample_bytree': 0.7937017007796321, 'gamma': 3.1981725462332795, 'reg_alpha': 0.514112843324982, 'reg_lambda': 2.295431392770448}. Best is trial 8 with value: 0.9639314959771002.\n",
      "[I 2025-07-04 13:19:04,791] Trial 14 finished with value: 0.9638088718201413 and parameters: {'n_estimators': 225, 'max_depth': 5, 'learning_rate': 0.1647103530684128, 'subsample': 0.8353730022359616, 'colsample_bytree': 0.6859336646264944, 'gamma': 1.989329491733475, 'reg_alpha': 1.2960272627799525, 'reg_lambda': 2.630656115050636}. Best is trial 8 with value: 0.9639314959771002.\n",
      "[I 2025-07-04 13:19:06,291] Trial 15 finished with value: 0.9635635482766791 and parameters: {'n_estimators': 448, 'max_depth': 8, 'learning_rate': 0.2243813370895215, 'subsample': 0.7970504838863779, 'colsample_bytree': 0.782257957530646, 'gamma': 4.935884755853589, 'reg_alpha': 1.09831086772403, 'reg_lambda': 0.9383875175351013}. Best is trial 8 with value: 0.9639314959771002.\n",
      "[I 2025-07-04 13:19:07,280] Trial 16 finished with value: 0.9636862476631822 and parameters: {'n_estimators': 251, 'max_depth': 5, 'learning_rate': 0.06289189408440839, 'subsample': 0.9157045975909544, 'colsample_bytree': 0.8764735338206765, 'gamma': 3.808787773959485, 'reg_alpha': 0.43800415488236993, 'reg_lambda': 1.9618574736222085}. Best is trial 8 with value: 0.9639314959771002.\n",
      "[I 2025-07-04 13:19:08,060] Trial 17 finished with value: 0.9628272767281165 and parameters: {'n_estimators': 133, 'max_depth': 4, 'learning_rate': 0.1889298496199284, 'subsample': 0.6721556334987567, 'colsample_bytree': 0.613618116567843, 'gamma': 1.698988373489092, 'reg_alpha': 0.007574575383349158, 'reg_lambda': 2.9671958028300276}. Best is trial 8 with value: 0.9639314959771002.\n",
      "[I 2025-07-04 13:19:09,709] Trial 18 finished with value: 0.9634408488901762 and parameters: {'n_estimators': 482, 'max_depth': 9, 'learning_rate': 0.12618277523247642, 'subsample': 0.7883574938966273, 'colsample_bytree': 0.8310420893266346, 'gamma': 2.9613193852087445, 'reg_alpha': 2.0390227923975353, 'reg_lambda': 2.4518352302526134}. Best is trial 8 with value: 0.9639314959771002.\n",
      "[I 2025-07-04 13:19:10,771] Trial 19 finished with value: 0.9635635482766792 and parameters: {'n_estimators': 262, 'max_depth': 4, 'learning_rate': 0.07507088533006574, 'subsample': 0.9223475934430313, 'colsample_bytree': 0.7514540709087101, 'gamma': 3.895013883793723, 'reg_alpha': 0.5835900696597326, 'reg_lambda': 1.0580195760245399}. Best is trial 8 with value: 0.9639314959771002.\n",
      "[I 2025-07-04 13:19:11,335] Trial 20 finished with value: 0.9634408488901762 and parameters: {'n_estimators': 100, 'max_depth': 6, 'learning_rate': 0.24539165164264484, 'subsample': 0.6595505754977131, 'colsample_bytree': 0.9275761224845901, 'gamma': 2.816145819229598, 'reg_alpha': 1.146946472491273, 'reg_lambda': 1.9257731803306628}. Best is trial 8 with value: 0.9639314959771002.\n",
      "[I 2025-07-04 13:19:12,531] Trial 21 finished with value: 0.9639316464361883 and parameters: {'n_estimators': 299, 'max_depth': 5, 'learning_rate': 0.15841262137302178, 'subsample': 0.8519152889164038, 'colsample_bytree': 0.6808885474211932, 'gamma': 2.0070959113867732, 'reg_alpha': 1.2522715414146957, 'reg_lambda': 2.5895571241033593}. Best is trial 21 with value: 0.9639316464361883.\n",
      "[I 2025-07-04 13:19:13,837] Trial 22 finished with value: 0.9638088718201413 and parameters: {'n_estimators': 315, 'max_depth': 5, 'learning_rate': 0.13817448298310592, 'subsample': 0.8698502092257882, 'colsample_bytree': 0.6665079804738511, 'gamma': 1.5612549044781474, 'reg_alpha': 1.4197653980057476, 'reg_lambda': 2.5567556794836293}. Best is trial 21 with value: 0.9639316464361883.\n",
      "[I 2025-07-04 13:19:15,472] Trial 23 finished with value: 0.9634408488901762 and parameters: {'n_estimators': 517, 'max_depth': 4, 'learning_rate': 0.15221718381889693, 'subsample': 0.9510693764367373, 'colsample_bytree': 0.7087761894758345, 'gamma': 4.387722055632002, 'reg_alpha': 0.9832148040846835, 'reg_lambda': 2.132055500811219}. Best is trial 21 with value: 0.9639316464361883.\n",
      "[I 2025-07-04 13:19:16,221] Trial 24 finished with value: 0.9635634730471351 and parameters: {'n_estimators': 195, 'max_depth': 7, 'learning_rate': 0.18742674917067476, 'subsample': 0.8791347437382874, 'colsample_bytree': 0.6303365490952959, 'gamma': 3.545146114650385, 'reg_alpha': 0.2690774270934062, 'reg_lambda': 2.7816701912504986}. Best is trial 21 with value: 0.9639316464361883.\n",
      "[I 2025-07-04 13:19:17,537] Trial 25 finished with value: 0.9636861724336381 and parameters: {'n_estimators': 320, 'max_depth': 3, 'learning_rate': 0.08361767597505627, 'subsample': 0.7735198536030414, 'colsample_bytree': 0.7779196828812532, 'gamma': 2.5525731418202704, 'reg_alpha': 0.6593589870349983, 'reg_lambda': 1.7612274287045788}. Best is trial 21 with value: 0.9639316464361883.\n",
      "[I 2025-07-04 13:19:18,951] Trial 26 finished with value: 0.9638088718201411 and parameters: {'n_estimators': 433, 'max_depth': 6, 'learning_rate': 0.2972244494759272, 'subsample': 0.8351134391437194, 'colsample_bytree': 0.7237429816801525, 'gamma': 1.9582967686664112, 'reg_alpha': 1.6292226583005207, 'reg_lambda': 2.1625813563616205}. Best is trial 21 with value: 0.9639316464361883.\n",
      "[I 2025-07-04 13:19:20,342] Trial 27 finished with value: 0.9624591785686075 and parameters: {'n_estimators': 327, 'max_depth': 5, 'learning_rate': 0.23866392241441364, 'subsample': 0.7009831280293628, 'colsample_bytree': 0.649611671883151, 'gamma': 1.04093832572724, 'reg_alpha': 2.221321515548169, 'reg_lambda': 2.4878841129719746}. Best is trial 21 with value: 0.9639316464361883.\n",
      "[I 2025-07-04 13:19:21,001] Trial 28 finished with value: 0.9634409241197203 and parameters: {'n_estimators': 168, 'max_depth': 4, 'learning_rate': 0.19791362846037108, 'subsample': 0.9460864175477395, 'colsample_bytree': 0.8185517626034454, 'gamma': 3.4329919696367983, 'reg_alpha': 1.2136844419553956, 'reg_lambda': 2.7321482380139095}. Best is trial 21 with value: 0.9639316464361883.\n",
      "[I 2025-07-04 13:19:23,907] Trial 29 finished with value: 0.9624591785686075 and parameters: {'n_estimators': 783, 'max_depth': 7, 'learning_rate': 0.15686182904569423, 'subsample': 0.7488430496892317, 'colsample_bytree': 0.864579760381792, 'gamma': 0.6384306958944279, 'reg_alpha': 2.5264073100543816, 'reg_lambda': 1.2894587464910292}. Best is trial 21 with value: 0.9639316464361883.\n",
      "[I 2025-07-04 13:19:25,099] Trial 30 finished with value: 0.9631954501171702 and parameters: {'n_estimators': 282, 'max_depth': 9, 'learning_rate': 0.21986219475630314, 'subsample': 0.8567447888054145, 'colsample_bytree': 0.9306400871870905, 'gamma': 2.096985148340669, 'reg_alpha': 0.2701329545854283, 'reg_lambda': 2.973031811382922}. Best is trial 21 with value: 0.9639316464361883.\n",
      "[I 2025-07-04 13:19:26,020] Trial 31 finished with value: 0.9635634730471351 and parameters: {'n_estimators': 212, 'max_depth': 5, 'learning_rate': 0.16481799683286222, 'subsample': 0.8251727997659479, 'colsample_bytree': 0.6869573910664354, 'gamma': 1.6073667489461627, 'reg_alpha': 1.3398014814471033, 'reg_lambda': 2.6141470884776714}. Best is trial 21 with value: 0.9639316464361883.\n",
      "[I 2025-07-04 13:19:26,788] Trial 32 finished with value: 0.9638088718201413 and parameters: {'n_estimators': 191, 'max_depth': 6, 'learning_rate': 0.13784507652410125, 'subsample': 0.8877130001567285, 'colsample_bytree': 0.6802682083304582, 'gamma': 2.7361670142596872, 'reg_alpha': 1.2578292074297273, 'reg_lambda': 2.242095616798703}. Best is trial 21 with value: 0.9639316464361883.\n",
      "[I 2025-07-04 13:19:27,817] Trial 33 finished with value: 0.9638088718201413 and parameters: {'n_estimators': 346, 'max_depth': 5, 'learning_rate': 0.10489124725913665, 'subsample': 0.8178223225874054, 'colsample_bytree': 0.6984607936861511, 'gamma': 1.9544329783632737, 'reg_alpha': 1.5606603302048059, 'reg_lambda': 2.6304019156965532}. Best is trial 21 with value: 0.9639316464361883.\n",
      "[I 2025-07-04 13:19:29,106] Trial 34 finished with value: 0.96319545011717 and parameters: {'n_estimators': 416, 'max_depth': 7, 'learning_rate': 0.1766177490980977, 'subsample': 0.7647043243396816, 'colsample_bytree': 0.7369884198069052, 'gamma': 1.3555503213131466, 'reg_alpha': 1.008348744058231, 'reg_lambda': 2.0746926850788836}. Best is trial 21 with value: 0.9639316464361883.\n",
      "[I 2025-07-04 13:19:30,579] Trial 35 finished with value: 0.9638089470496853 and parameters: {'n_estimators': 546, 'max_depth': 4, 'learning_rate': 0.26372589375026195, 'subsample': 0.9041676702192653, 'colsample_bytree': 0.7647083484638144, 'gamma': 2.313772295066696, 'reg_alpha': 1.7319795944079686, 'reg_lambda': 2.3481053045384614}. Best is trial 21 with value: 0.9639316464361883.\n",
      "[I 2025-07-04 13:19:31,933] Trial 36 finished with value: 0.9639316464361883 and parameters: {'n_estimators': 550, 'max_depth': 3, 'learning_rate': 0.2661162114287513, 'subsample': 0.8967607067262663, 'colsample_bytree': 0.7659489675618698, 'gamma': 2.5727259395723583, 'reg_alpha': 1.9031858268777109, 'reg_lambda': 0.46737009665924756}. Best is trial 21 with value: 0.9639316464361883.\n",
      "[I 2025-07-04 13:19:33,653] Trial 37 finished with value: 0.9638090222792295 and parameters: {'n_estimators': 772, 'max_depth': 3, 'learning_rate': 0.28097088522478797, 'subsample': 0.9575780210735492, 'colsample_bytree': 0.8503845156182607, 'gamma': 4.098499670457789, 'reg_alpha': 2.600309682404582, 'reg_lambda': 0.6866988104164071}. Best is trial 21 with value: 0.9639316464361883.\n",
      "[I 2025-07-04 13:19:35,717] Trial 38 finished with value: 0.9636863228927265 and parameters: {'n_estimators': 863, 'max_depth': 3, 'learning_rate': 0.2856289576573276, 'subsample': 0.9967682298280192, 'colsample_bytree': 0.8003220723870368, 'gamma': 4.5054779718289675, 'reg_alpha': 2.7266189330137545, 'reg_lambda': 0.46912672812785794}. Best is trial 21 with value: 0.9639316464361883.\n",
      "[I 2025-07-04 13:19:37,403] Trial 39 finished with value: 0.9639314959771002 and parameters: {'n_estimators': 692, 'max_depth': 3, 'learning_rate': 0.2958052760060602, 'subsample': 0.8908850516024819, 'colsample_bytree': 0.7229785391523557, 'gamma': 3.5683528488497136, 'reg_alpha': 1.991086990366342, 'reg_lambda': 0.5923789946172131}. Best is trial 21 with value: 0.9639316464361883.\n",
      "[I 2025-07-04 13:19:39,033] Trial 40 finished with value: 0.9636861724336381 and parameters: {'n_estimators': 684, 'max_depth': 3, 'learning_rate': 0.2936298702321731, 'subsample': 0.854441020428875, 'colsample_bytree': 0.7298647250668482, 'gamma': 3.5190591566587495, 'reg_alpha': 1.8937936755755465, 'reg_lambda': 0.25417256333538196}. Best is trial 21 with value: 0.9639316464361883.\n",
      "[I 2025-07-04 13:19:40,706] Trial 41 finished with value: 0.9635636235062233 and parameters: {'n_estimators': 752, 'max_depth': 3, 'learning_rate': 0.28382691405548527, 'subsample': 0.893076114343979, 'colsample_bytree': 0.8040273736161091, 'gamma': 4.0592901437519, 'reg_alpha': 2.9612574109436096, 'reg_lambda': 0.5609343552770667}. Best is trial 21 with value: 0.9639316464361883.\n",
      "[I 2025-07-04 13:19:42,731] Trial 42 finished with value: 0.9633182247332173 and parameters: {'n_estimators': 804, 'max_depth': 3, 'learning_rate': 0.2692915878799908, 'subsample': 0.8621130806918116, 'colsample_bytree': 0.7646737770793469, 'gamma': 2.87935246810533, 'reg_alpha': 2.1674896959645404, 'reg_lambda': 0.6752062940193417}. Best is trial 21 with value: 0.9639316464361883.\n",
      "[I 2025-07-04 13:19:44,128] Trial 43 finished with value: 0.9635635482766792 and parameters: {'n_estimators': 605, 'max_depth': 4, 'learning_rate': 0.25145760642285514, 'subsample': 0.9330120940619286, 'colsample_bytree': 0.6554887811690278, 'gamma': 3.117929379785261, 'reg_alpha': 2.7269211784898637, 'reg_lambda': 0.22759365024725398}. Best is trial 21 with value: 0.9639316464361883.\n",
      "[I 2025-07-04 13:19:45,719] Trial 44 finished with value: 0.9636862476631822 and parameters: {'n_estimators': 702, 'max_depth': 3, 'learning_rate': 0.29996875336417905, 'subsample': 0.97166062949461, 'colsample_bytree': 0.7079019826609628, 'gamma': 2.6292123283274305, 'reg_alpha': 1.873526067359336, 'reg_lambda': 0.7667635066163732}. Best is trial 21 with value: 0.9639316464361883.\n",
      "[I 2025-07-04 13:19:47,796] Trial 45 finished with value: 0.9638090222792297 and parameters: {'n_estimators': 879, 'max_depth': 4, 'learning_rate': 0.27687218820362597, 'subsample': 0.9702834897609935, 'colsample_bytree': 0.8497233965109104, 'gamma': 4.6034165121768345, 'reg_alpha': 2.4169367224936047, 'reg_lambda': 0.08705211951206271}. Best is trial 21 with value: 0.9639316464361883.\n",
      "[I 2025-07-04 13:19:50,042] Trial 46 finished with value: 0.9636862476631822 and parameters: {'n_estimators': 982, 'max_depth': 4, 'learning_rate': 0.2595185813474594, 'subsample': 0.6382408314905142, 'colsample_bytree': 0.7417074930960315, 'gamma': 4.759277534237299, 'reg_alpha': 2.208393168801288, 'reg_lambda': 0.10483674048185682}. Best is trial 21 with value: 0.9639316464361883.\n",
      "[I 2025-07-04 13:19:52,179] Trial 47 finished with value: 0.9635634730471351 and parameters: {'n_estimators': 885, 'max_depth': 4, 'learning_rate': 0.22524428180549474, 'subsample': 0.8113991302600179, 'colsample_bytree': 0.7692992355341643, 'gamma': 2.3166845551627278, 'reg_alpha': 2.0495167759026653, 'reg_lambda': 0.041282534274850013}. Best is trial 21 with value: 0.9639316464361883.\n",
      "[I 2025-07-04 13:19:54,433] Trial 48 finished with value: 0.9636863228927265 and parameters: {'n_estimators': 918, 'max_depth': 4, 'learning_rate': 0.23988166449926154, 'subsample': 0.9778904955406443, 'colsample_bytree': 0.8923472626530541, 'gamma': 4.667677074721505, 'reg_alpha': 2.363283198654781, 'reg_lambda': 0.34252427315067796}. Best is trial 21 with value: 0.9639316464361883.\n",
      "[I 2025-07-04 13:19:56,032] Trial 49 finished with value: 0.9634409241197203 and parameters: {'n_estimators': 613, 'max_depth': 3, 'learning_rate': 0.20886382576020107, 'subsample': 0.9025537315506001, 'colsample_bytree': 0.7526561002706007, 'gamma': 3.3642587944786433, 'reg_alpha': 2.0351102484239703, 'reg_lambda': 1.6929625823206857}. Best is trial 21 with value: 0.9639316464361883.\n"
     ]
    },
    {
     "name": "stdout",
     "output_type": "stream",
     "text": [
      "Best Params: {'n_estimators': 299, 'max_depth': 5, 'learning_rate': 0.15841262137302178, 'subsample': 0.8519152889164038, 'colsample_bytree': 0.6808885474211932, 'gamma': 2.0070959113867732, 'reg_alpha': 1.2522715414146957, 'reg_lambda': 2.5895571241033593}\n",
      "Best CV Score: 0.9639316464361883\n"
     ]
    }
   ],
   "source": [
    "def objective(trial):\n",
    "    param = {\n",
    "    'n_estimators': trial.suggest_int('n_estimators', 100, 1000),\n",
    "    'max_depth': trial.suggest_int('max_depth', 3, 10),           \n",
    "    'learning_rate': trial.suggest_float('learning_rate', 0.01, 0.3),\n",
    "    'subsample': trial.suggest_float('subsample', 0.6, 1.0),\n",
    "    'colsample_bytree': trial.suggest_float('colsample_bytree', 0.6, 1.0),\n",
    "    'gamma': trial.suggest_float('gamma', 0, 5),\n",
    "    'reg_alpha': trial.suggest_float('reg_alpha', 0, 3),         \n",
    "    'reg_lambda': trial.suggest_float('reg_lambda', 0, 3),\n",
    "    'use_label_encoder': False,\n",
    "    'eval_metric': 'logloss',\n",
    "    'random_state': 42\n",
    "}\n",
    "\n",
    "    model = XGBClassifier(**param)\n",
    "\n",
    "    cv = StratifiedKFold(n_splits=5, shuffle=True, random_state=42)\n",
    "    scores = cross_val_score(model, X_train, y_train, cv=cv, scoring='accuracy')\n",
    "    return scores.mean()\n",
    "\n",
    "study = optuna.create_study(direction='maximize')\n",
    "study.optimize(objective, n_trials=50)  \n",
    "\n",
    "print(\"Best Params:\", study.best_params)\n",
    "print(\"Best CV Score:\", study.best_value)"
   ]
  },
  {
   "cell_type": "code",
   "execution_count": 46,
   "id": "4b30dfe5",
   "metadata": {},
   "outputs": [
    {
     "name": "stdout",
     "output_type": "stream",
     "text": [
      "RMSE: 0.30210824789781193\n",
      "R2 Train: 0.9640534903692799\n"
     ]
    },
    {
     "name": "stderr",
     "output_type": "stream",
     "text": [
      "c:\\Users\\LENOVO\\anaconda3\\Lib\\site-packages\\sklearn\\metrics\\_regression.py:492: FutureWarning: 'squared' is deprecated in version 1.4 and will be removed in 1.6. To calculate the root mean squared error, use the function'root_mean_squared_error'.\n",
      "  warnings.warn(\n"
     ]
    }
   ],
   "source": [
    "final_model = XGBClassifier(\n",
    "    n_estimators=299,\n",
    "    max_depth=5,\n",
    "    learning_rate=0.1584,\n",
    "    subsample=0.8519,\n",
    "    colsample_bytree=0.6809,\n",
    "    gamma=2.007,\n",
    "    reg_alpha=1.252,\n",
    "    reg_lambda=2.589,\n",
    "    use_label_encoder=False,\n",
    "    eval_metric='logloss',\n",
    "    random_state=42\n",
    ")\n",
    "\n",
    "final_model.fit(X_scaled, y)\n",
    "y_pred_log = final_model.predict(X_test)\n",
    "y_pred = np.expm1(y_pred_log)\n",
    "y_test_actual = np.expm1(y_test)\n",
    "\n",
    "rmse = mean_squared_error(y_test_actual, y_pred, squared=False)\n",
    "r2_train = final_model.score(X_train, y_train)\n",
    "r2_test = r2_score(y_test_actual, y_pred)\n",
    "\n",
    "print(\"RMSE:\", rmse)\n",
    "print(\"R2 Train:\", r2_train)"
   ]
  },
  {
   "cell_type": "code",
   "execution_count": 38,
   "id": "41744891",
   "metadata": {},
   "outputs": [
    {
     "data": {
      "text/plain": [
       "['final_model.pkl']"
      ]
     },
     "execution_count": 38,
     "metadata": {},
     "output_type": "execute_result"
    }
   ],
   "source": [
    "import joblib\n",
    "joblib.dump(final_model, 'final_model.pkl')"
   ]
  },
  {
   "cell_type": "code",
   "execution_count": null,
   "id": "1b4d9927",
   "metadata": {},
   "outputs": [
    {
     "data": {
      "text/plain": [
       "['final_model_pipeline.pkl']"
      ]
     },
     "execution_count": 56,
     "metadata": {},
     "output_type": "execute_result"
    }
   ],
   "source": [
    "from sklearn.pipeline import Pipeline\n",
    "from sklearn.compose import ColumnTransformer\n",
    "from sklearn.preprocessing import StandardScaler, OneHotEncoder, LabelEncoder\n",
    "import joblib\n",
    "\n",
    "df = df_train.copy()\n",
    "categorical_cols = df.select_dtypes(include=['object']).columns.tolist()\n",
    "if 'Personality' in categorical_cols:\n",
    "    categorical_cols.remove('Personality')\n",
    "numerical_cols = df.select_dtypes(include=['int64', 'float64']).columns.tolist()\n",
    "\n",
    "le = LabelEncoder()\n",
    "y_encoded = le.fit_transform(df['Personality'])\n",
    "\n",
    "preprocessor = ColumnTransformer(\n",
    "    transformers=[\n",
    "        ('num', StandardScaler(), numerical_cols),\n",
    "        ('cat', OneHotEncoder(handle_unknown='ignore'), categorical_cols)\n",
    "    ]\n",
    ")\n",
    "\n",
    "pipeline = Pipeline([\n",
    "    ('preprocessor', preprocessor),\n",
    "    ('classifier', XGBClassifier(\n",
    "        n_estimators=299,\n",
    "        max_depth=5,\n",
    "        learning_rate=0.1584,\n",
    "        subsample=0.8519,\n",
    "        colsample_bytree=0.6809,\n",
    "        gamma=2.007,\n",
    "        reg_alpha=1.252,\n",
    "        reg_lambda=2.589,\n",
    "        use_label_encoder=False,\n",
    "        eval_metric='logloss',\n",
    "        random_state=42\n",
    "    ))\n",
    "])\n",
    "\n",
    "pipeline.fit(df.drop('Personality', axis=1), y_encoded)\n",
    "\n",
    "joblib.dump({'pipeline': pipeline, 'label_encoder': le}, 'final_model_pipeline.pkl')"
   ]
  },
  {
   "cell_type": "code",
   "execution_count": 62,
   "id": "cede2288",
   "metadata": {},
   "outputs": [
    {
     "data": {
      "application/vnd.microsoft.datawrangler.viewer.v0+json": {
       "columns": [
        {
         "name": "index",
         "rawType": "int64",
         "type": "integer"
        },
        {
         "name": "id",
         "rawType": "int64",
         "type": "integer"
        },
        {
         "name": "Personality",
         "rawType": "object",
         "type": "string"
        }
       ],
       "ref": "d799e2bb-aa55-47ed-8c4a-afae13acfe55",
       "rows": [
        [
         "0",
         "18524",
         "Extrovert"
        ],
        [
         "1",
         "18525",
         "Introvert"
        ],
        [
         "2",
         "18526",
         "Extrovert"
        ],
        [
         "3",
         "18527",
         "Extrovert"
        ],
        [
         "4",
         "18528",
         "Introvert"
        ]
       ],
       "shape": {
        "columns": 2,
        "rows": 5
       }
      },
      "text/html": [
       "<div>\n",
       "<style scoped>\n",
       "    .dataframe tbody tr th:only-of-type {\n",
       "        vertical-align: middle;\n",
       "    }\n",
       "\n",
       "    .dataframe tbody tr th {\n",
       "        vertical-align: top;\n",
       "    }\n",
       "\n",
       "    .dataframe thead th {\n",
       "        text-align: right;\n",
       "    }\n",
       "</style>\n",
       "<table border=\"1\" class=\"dataframe\">\n",
       "  <thead>\n",
       "    <tr style=\"text-align: right;\">\n",
       "      <th></th>\n",
       "      <th>id</th>\n",
       "      <th>Personality</th>\n",
       "    </tr>\n",
       "  </thead>\n",
       "  <tbody>\n",
       "    <tr>\n",
       "      <th>0</th>\n",
       "      <td>18524</td>\n",
       "      <td>Extrovert</td>\n",
       "    </tr>\n",
       "    <tr>\n",
       "      <th>1</th>\n",
       "      <td>18525</td>\n",
       "      <td>Introvert</td>\n",
       "    </tr>\n",
       "    <tr>\n",
       "      <th>2</th>\n",
       "      <td>18526</td>\n",
       "      <td>Extrovert</td>\n",
       "    </tr>\n",
       "    <tr>\n",
       "      <th>3</th>\n",
       "      <td>18527</td>\n",
       "      <td>Extrovert</td>\n",
       "    </tr>\n",
       "    <tr>\n",
       "      <th>4</th>\n",
       "      <td>18528</td>\n",
       "      <td>Introvert</td>\n",
       "    </tr>\n",
       "  </tbody>\n",
       "</table>\n",
       "</div>"
      ],
      "text/plain": [
       "      id Personality\n",
       "0  18524   Extrovert\n",
       "1  18525   Introvert\n",
       "2  18526   Extrovert\n",
       "3  18527   Extrovert\n",
       "4  18528   Introvert"
      ]
     },
     "execution_count": 62,
     "metadata": {},
     "output_type": "execute_result"
    }
   ],
   "source": [
    "df_submission2 = pd.read_csv('../Data/test.csv')\n",
    "\n",
    "import joblib\n",
    "\n",
    "model_bundle = joblib.load('final_model_pipeline.pkl')\n",
    "pipeline = model_bundle['pipeline']\n",
    "le = model_bundle['label_encoder']\n",
    "\n",
    "preds_numeric = pipeline.predict(df_submission2)\n",
    "preds_label = le.inverse_transform(preds_numeric)\n",
    "\n",
    "submission = pd.DataFrame({\n",
    "    'id': df_submission2['id'],\n",
    "    'Personality': preds_label\n",
    "})\n",
    "\n",
    "submission.to_csv('submission2.csv', index=False)\n",
    "submission.head()"
   ]
  }
 ],
 "metadata": {
  "kernelspec": {
   "display_name": "base",
   "language": "python",
   "name": "python3"
  },
  "language_info": {
   "codemirror_mode": {
    "name": "ipython",
    "version": 3
   },
   "file_extension": ".py",
   "mimetype": "text/x-python",
   "name": "python",
   "nbconvert_exporter": "python",
   "pygments_lexer": "ipython3",
   "version": "3.12.3"
  }
 },
 "nbformat": 4,
 "nbformat_minor": 5
}
